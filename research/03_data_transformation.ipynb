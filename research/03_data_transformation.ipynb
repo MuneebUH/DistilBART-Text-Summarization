{
 "cells": [
  {
   "cell_type": "code",
   "execution_count": 2,
   "metadata": {},
   "outputs": [],
   "source": [
    "import os"
   ]
  },
  {
   "cell_type": "code",
   "execution_count": 3,
   "metadata": {},
   "outputs": [
    {
     "data": {
      "text/plain": [
       "'e:\\\\Interest\\\\_Projects\\\\distilbart-text summarization\\\\Text-Summarization-NLP-Project\\\\research'"
      ]
     },
     "execution_count": 3,
     "metadata": {},
     "output_type": "execute_result"
    }
   ],
   "source": [
    "%pwd"
   ]
  },
  {
   "cell_type": "code",
   "execution_count": 4,
   "metadata": {},
   "outputs": [],
   "source": [
    "os.chdir(\"../\")"
   ]
  },
  {
   "cell_type": "code",
   "execution_count": 12,
   "metadata": {},
   "outputs": [
    {
     "data": {
      "text/plain": [
       "'e:\\\\Interest\\\\_Projects\\\\distilbart-text summarization\\\\Text-Summarization-NLP-Project'"
      ]
     },
     "execution_count": 12,
     "metadata": {},
     "output_type": "execute_result"
    }
   ],
   "source": [
    "%pwd"
   ]
  },
  {
   "cell_type": "code",
   "execution_count": 13,
   "metadata": {},
   "outputs": [],
   "source": [
    "from dataclasses import dataclass\n",
    "from pathlib import Path\n",
    "\n",
    "\n",
    "@dataclass(frozen=True)\n",
    "class DataTransformationConfig:\n",
    "    root_dir: Path\n",
    "    data_path: Path\n",
    "    tokenizer_name: Path\n"
   ]
  },
  {
   "cell_type": "code",
   "execution_count": 14,
   "metadata": {},
   "outputs": [],
   "source": [
    "from textSummarizer.constants import *\n",
    "from textSummarizer.utils.common import read_yaml, create_directories"
   ]
  },
  {
   "cell_type": "code",
   "execution_count": 16,
   "metadata": {},
   "outputs": [],
   "source": [
    "class ConfigurationManager:\n",
    "    def __init__(\n",
    "        self,\n",
    "        config_filepath = CONFIG_FILE_PATH,\n",
    "        params_filepath = PARAMS_FILE_PATH):\n",
    "\n",
    "        self.config = read_yaml(config_filepath)\n",
    "        self.params = read_yaml(params_filepath)\n",
    "\n",
    "        create_directories([self.config.artifacts_root])\n",
    "\n",
    "\n",
    "    \n",
    "    def get_data_transformation_config(self) -> DataTransformationConfig:\n",
    "        config = self.config.data_transformation\n",
    "\n",
    "        create_directories([config.root_dir])\n",
    "\n",
    "        data_transformation_config = DataTransformationConfig(\n",
    "            root_dir=config.root_dir,\n",
    "            data_path=config.data_path,\n",
    "            tokenizer_name = config.tokenizer_name\n",
    "        )\n",
    "\n",
    "        return data_transformation_config\n"
   ]
  },
  {
   "cell_type": "code",
   "execution_count": 17,
   "metadata": {},
   "outputs": [],
   "source": [
    "import os\n",
    "from textSummarizer.logging import logger\n",
    "from transformers import AutoTokenizer\n",
    "from datasets import load_dataset, load_from_disk"
   ]
  },
  {
   "cell_type": "code",
   "execution_count": 18,
   "metadata": {},
   "outputs": [],
   "source": [
    "class DataTransformation:\n",
    "    def __init__(self, config: DataTransformationConfig):\n",
    "        self.config = config\n",
    "        self.tokenizer = AutoTokenizer.from_pretrained(config.tokenizer_name)\n",
    "\n",
    "    def convert_examples_to_features(self, example_batch):\n",
    "        # Tokenize the input text (email) and target text (summary)\n",
    "        input_encodings = self.tokenizer(example_batch['Email'], max_length=1024, truncation=True, padding='max_length')\n",
    "        \n",
    "        with self.tokenizer.as_target_tokenizer():\n",
    "            target_encodings = self.tokenizer(example_batch['Summary'], max_length=128, truncation=True, padding='max_length')\n",
    "\n",
    "        # Return the tokenized data\n",
    "        return {\n",
    "            'input_ids': input_encodings['input_ids'],\n",
    "            'attention_mask': input_encodings['attention_mask'],\n",
    "            'labels': target_encodings['input_ids']\n",
    "        }\n",
    "\n",
    "    def convert(self):\n",
    "        # Load the dataset directly from CSV files using `load_dataset`\n",
    "        dataset = load_dataset('csv', data_files={\n",
    "            'train': os.path.join(self.config.data_path, 'train/train.csv'),\n",
    "            'test': os.path.join(self.config.data_path, 'test/test.csv'),\n",
    "            'val': os.path.join(self.config.data_path, 'val/val.csv')\n",
    "        })\n",
    "\n",
    "        # Apply tokenization to the dataset\n",
    "        dataset = dataset.map(self.convert_examples_to_features, batched=True)\n",
    "\n",
    "        # Save the transformed dataset to disk\n",
    "        dataset.save_to_disk(os.path.join(self.config.root_dir, 'email_data_transformed'))"
   ]
  },
  {
   "cell_type": "code",
   "execution_count": 19,
   "metadata": {},
   "outputs": [
    {
     "name": "stdout",
     "output_type": "stream",
     "text": [
      "[2024-11-15 22:13:40,856: INFO: common: yaml file: config\\config.yaml loaded successfully]\n",
      "[2024-11-15 22:13:40,870: INFO: common: yaml file: params.yaml loaded successfully]\n",
      "[2024-11-15 22:13:40,874: INFO: common: created directory at: artifacts]\n",
      "[2024-11-15 22:13:40,878: INFO: common: created directory at: artifacts/data_transformation]\n"
     ]
    },
    {
     "name": "stderr",
     "output_type": "stream",
     "text": [
      "Generating train split: 160 examples [00:00, 2536.51 examples/s]\n",
      "Generating test split: 20 examples [00:00, 1051.12 examples/s]\n",
      "Generating val split: 20 examples [00:00, 2112.52 examples/s]\n",
      "Map:   0%|          | 0/160 [00:00<?, ? examples/s]e:\\Interest\\_Projects\\distilbart-text summarization\\Text-Summarization-NLP-Project\\myenv\\Lib\\site-packages\\transformers\\tokenization_utils_base.py:4114: UserWarning: `as_target_tokenizer` is deprecated and will be removed in v5 of Transformers. You can tokenize your labels by using the argument `text_target` of the regular `__call__` method (either in the same call as your input texts if you use the same keyword arguments, or in a separate call.\n",
      "  warnings.warn(\n",
      "Map: 100%|██████████| 160/160 [00:00<00:00, 193.19 examples/s]\n",
      "Map: 100%|██████████| 20/20 [00:00<00:00, 332.93 examples/s]\n",
      "Map: 100%|██████████| 20/20 [00:00<00:00, 340.33 examples/s]\n",
      "Saving the dataset (1/1 shards): 100%|██████████| 160/160 [00:00<00:00, 4098.48 examples/s]\n",
      "Saving the dataset (1/1 shards): 100%|██████████| 20/20 [00:00<00:00, 510.23 examples/s]\n",
      "Saving the dataset (1/1 shards): 100%|██████████| 20/20 [00:00<00:00, 1031.96 examples/s]\n"
     ]
    }
   ],
   "source": [
    "try:\n",
    "    config = ConfigurationManager()\n",
    "    data_transformation_config = config.get_data_transformation_config()\n",
    "    data_transformation = DataTransformation(config=data_transformation_config)\n",
    "    data_transformation.convert()\n",
    "except Exception as e:\n",
    "    raise e"
   ]
  }
 ],
 "metadata": {
  "kernelspec": {
   "display_name": "myenv",
   "language": "python",
   "name": "python3"
  },
  "language_info": {
   "codemirror_mode": {
    "name": "ipython",
    "version": 3
   },
   "file_extension": ".py",
   "mimetype": "text/x-python",
   "name": "python",
   "nbconvert_exporter": "python",
   "pygments_lexer": "ipython3",
   "version": "3.12.0"
  },
  "orig_nbformat": 4
 },
 "nbformat": 4,
 "nbformat_minor": 2
}
